{
 "cells": [
  {
   "cell_type": "markdown",
   "metadata": {},
   "source": [
    "These are the functions to run a single N-body simulation. Choose parameters at the top"
   ]
  },
  {
   "cell_type": "code",
   "execution_count": 1,
   "metadata": {
    "collapsed": false
   },
   "outputs": [],
   "source": [
    "import pandas as pd\n",
    "import rebound\n",
    "import numpy as np\n",
    "from numpy.random import random\n",
    "from numpy.random import rayleigh\n",
    "\n",
    "mjup = 9.543e-4\n",
    "escale = 0.01 # for Rayleigh distribution\n",
    "iscale = 1.5*np.pi/180. # 1.5 is about what it's in Fabrycky et al. 2014\n",
    "tmax=1.e6 # how long do we want to integrate (in units of inner planet orbits)? Shoudl we make it longer for lower mass planets?\n",
    "\n",
    "def a(planet):\n",
    "    return ((planet['pl_orbper']/365.25)**2*planet['st_mass'])**(1./3.)\n",
    "def M(planet):\n",
    "    return planet['pl_radj']**2*mjup"
   ]
  },
  {
   "cell_type": "code",
   "execution_count": 2,
   "metadata": {
    "collapsed": false
   },
   "outputs": [],
   "source": [
    "def run(system):\n",
    "    starmass = system.head(1)['st_mass'].values[0]\n",
    "    host = system.head(1)['pl_hostname'].values[0]\n",
    "    Nplanets = system.head(1)['pl_pnum'].values[0]\n",
    "    sim = rebound.Simulation()\n",
    "    sim.G = 4*np.pi**2\n",
    "    sim.add(m=starmass)\n",
    "    for i, planet in system.iterrows():\n",
    "        sim.add(m=M(planet),a=a(planet), e=rayleigh(scale=escale), pomega = random(), inc=rayleigh(scale=iscale), Omega = random(), f = random())\n",
    "\n",
    "    if sim.N != Nplanets+1: # in some entries, not all planets in the system are in the database, so skip these\n",
    "        return\n",
    "    P1 = sim.particles[1].P\n",
    "    sim.integrator=\"whfast\"\n",
    "    sim.move_to_com()\n",
    "    sim.dt = P1*0.07\n",
    "    sim.initSimulationArchive(\"binaries/\"+host+\".bin\", interval=P1*1.e5)\n",
    "    sim.integrate(tmax*P1)    "
   ]
  },
  {
   "cell_type": "markdown",
   "metadata": {},
   "source": [
    "Load the database"
   ]
  },
  {
   "cell_type": "code",
   "execution_count": 3,
   "metadata": {
    "collapsed": false
   },
   "outputs": [
    {
     "data": {
      "text/html": [
       "<div>\n",
       "<table border=\"1\" class=\"dataframe\">\n",
       "  <thead>\n",
       "    <tr style=\"text-align: right;\">\n",
       "      <th></th>\n",
       "      <th>pl_hostname</th>\n",
       "      <th>pl_letter</th>\n",
       "      <th>pl_discmethod</th>\n",
       "      <th>pl_pnum</th>\n",
       "      <th>pl_orbper</th>\n",
       "      <th>pl_orbpererr1</th>\n",
       "      <th>pl_orbpererr2</th>\n",
       "      <th>pl_orbperlim</th>\n",
       "      <th>pl_orbsmax</th>\n",
       "      <th>pl_orbsmaxerr1</th>\n",
       "      <th>...</th>\n",
       "      <th>st_bmyblend</th>\n",
       "      <th>st_m1</th>\n",
       "      <th>st_m1err</th>\n",
       "      <th>st_m1lim</th>\n",
       "      <th>st_m1blend</th>\n",
       "      <th>st_c1</th>\n",
       "      <th>st_c1err</th>\n",
       "      <th>st_c1lim</th>\n",
       "      <th>st_c1blend</th>\n",
       "      <th>st_colorn</th>\n",
       "    </tr>\n",
       "    <tr>\n",
       "      <th>rowid</th>\n",
       "      <th></th>\n",
       "      <th></th>\n",
       "      <th></th>\n",
       "      <th></th>\n",
       "      <th></th>\n",
       "      <th></th>\n",
       "      <th></th>\n",
       "      <th></th>\n",
       "      <th></th>\n",
       "      <th></th>\n",
       "      <th></th>\n",
       "      <th></th>\n",
       "      <th></th>\n",
       "      <th></th>\n",
       "      <th></th>\n",
       "      <th></th>\n",
       "      <th></th>\n",
       "      <th></th>\n",
       "      <th></th>\n",
       "      <th></th>\n",
       "      <th></th>\n",
       "    </tr>\n",
       "  </thead>\n",
       "  <tbody>\n",
       "    <tr>\n",
       "      <th>1</th>\n",
       "      <td>11 Com</td>\n",
       "      <td>b</td>\n",
       "      <td>Radial Velocity</td>\n",
       "      <td>1</td>\n",
       "      <td>326.03</td>\n",
       "      <td>0.32</td>\n",
       "      <td>-0.32</td>\n",
       "      <td>0.0</td>\n",
       "      <td>1.290</td>\n",
       "      <td>0.050</td>\n",
       "      <td>...</td>\n",
       "      <td>NaN</td>\n",
       "      <td>NaN</td>\n",
       "      <td>NaN</td>\n",
       "      <td>NaN</td>\n",
       "      <td>NaN</td>\n",
       "      <td>NaN</td>\n",
       "      <td>NaN</td>\n",
       "      <td>NaN</td>\n",
       "      <td>NaN</td>\n",
       "      <td>7</td>\n",
       "    </tr>\n",
       "    <tr>\n",
       "      <th>2</th>\n",
       "      <td>11 UMi</td>\n",
       "      <td>b</td>\n",
       "      <td>Radial Velocity</td>\n",
       "      <td>1</td>\n",
       "      <td>516.22</td>\n",
       "      <td>3.25</td>\n",
       "      <td>-3.25</td>\n",
       "      <td>0.0</td>\n",
       "      <td>1.540</td>\n",
       "      <td>0.070</td>\n",
       "      <td>...</td>\n",
       "      <td>NaN</td>\n",
       "      <td>NaN</td>\n",
       "      <td>NaN</td>\n",
       "      <td>NaN</td>\n",
       "      <td>NaN</td>\n",
       "      <td>NaN</td>\n",
       "      <td>NaN</td>\n",
       "      <td>NaN</td>\n",
       "      <td>NaN</td>\n",
       "      <td>5</td>\n",
       "    </tr>\n",
       "    <tr>\n",
       "      <th>3</th>\n",
       "      <td>14 And</td>\n",
       "      <td>b</td>\n",
       "      <td>Radial Velocity</td>\n",
       "      <td>1</td>\n",
       "      <td>185.84</td>\n",
       "      <td>0.23</td>\n",
       "      <td>-0.23</td>\n",
       "      <td>0.0</td>\n",
       "      <td>0.830</td>\n",
       "      <td>NaN</td>\n",
       "      <td>...</td>\n",
       "      <td>NaN</td>\n",
       "      <td>NaN</td>\n",
       "      <td>NaN</td>\n",
       "      <td>NaN</td>\n",
       "      <td>NaN</td>\n",
       "      <td>NaN</td>\n",
       "      <td>NaN</td>\n",
       "      <td>NaN</td>\n",
       "      <td>NaN</td>\n",
       "      <td>7</td>\n",
       "    </tr>\n",
       "    <tr>\n",
       "      <th>4</th>\n",
       "      <td>14 Her</td>\n",
       "      <td>b</td>\n",
       "      <td>Radial Velocity</td>\n",
       "      <td>1</td>\n",
       "      <td>1773.40</td>\n",
       "      <td>2.50</td>\n",
       "      <td>-2.50</td>\n",
       "      <td>0.0</td>\n",
       "      <td>2.770</td>\n",
       "      <td>0.050</td>\n",
       "      <td>...</td>\n",
       "      <td>0.0</td>\n",
       "      <td>0.366</td>\n",
       "      <td>0.002</td>\n",
       "      <td>0.0</td>\n",
       "      <td>0.0</td>\n",
       "      <td>0.438</td>\n",
       "      <td>0.006</td>\n",
       "      <td>0.0</td>\n",
       "      <td>0.0</td>\n",
       "      <td>9</td>\n",
       "    </tr>\n",
       "    <tr>\n",
       "      <th>5</th>\n",
       "      <td>16 Cyg B</td>\n",
       "      <td>b</td>\n",
       "      <td>Radial Velocity</td>\n",
       "      <td>1</td>\n",
       "      <td>798.50</td>\n",
       "      <td>1.00</td>\n",
       "      <td>-1.00</td>\n",
       "      <td>0.0</td>\n",
       "      <td>1.681</td>\n",
       "      <td>0.097</td>\n",
       "      <td>...</td>\n",
       "      <td>0.0</td>\n",
       "      <td>0.222</td>\n",
       "      <td>0.003</td>\n",
       "      <td>0.0</td>\n",
       "      <td>0.0</td>\n",
       "      <td>0.351</td>\n",
       "      <td>0.003</td>\n",
       "      <td>0.0</td>\n",
       "      <td>0.0</td>\n",
       "      <td>17</td>\n",
       "    </tr>\n",
       "  </tbody>\n",
       "</table>\n",
       "<p>5 rows × 379 columns</p>\n",
       "</div>"
      ],
      "text/plain": [
       "      pl_hostname pl_letter    pl_discmethod  pl_pnum  pl_orbper  \\\n",
       "rowid                                                              \n",
       "1          11 Com         b  Radial Velocity        1     326.03   \n",
       "2          11 UMi         b  Radial Velocity        1     516.22   \n",
       "3          14 And         b  Radial Velocity        1     185.84   \n",
       "4          14 Her         b  Radial Velocity        1    1773.40   \n",
       "5        16 Cyg B         b  Radial Velocity        1     798.50   \n",
       "\n",
       "       pl_orbpererr1  pl_orbpererr2  pl_orbperlim  pl_orbsmax  pl_orbsmaxerr1  \\\n",
       "rowid                                                                           \n",
       "1               0.32          -0.32           0.0       1.290           0.050   \n",
       "2               3.25          -3.25           0.0       1.540           0.070   \n",
       "3               0.23          -0.23           0.0       0.830             NaN   \n",
       "4               2.50          -2.50           0.0       2.770           0.050   \n",
       "5               1.00          -1.00           0.0       1.681           0.097   \n",
       "\n",
       "         ...      st_bmyblend  st_m1  st_m1err  st_m1lim  st_m1blend  st_c1  \\\n",
       "rowid    ...                                                                  \n",
       "1        ...              NaN    NaN       NaN       NaN         NaN    NaN   \n",
       "2        ...              NaN    NaN       NaN       NaN         NaN    NaN   \n",
       "3        ...              NaN    NaN       NaN       NaN         NaN    NaN   \n",
       "4        ...              0.0  0.366     0.002       0.0         0.0  0.438   \n",
       "5        ...              0.0  0.222     0.003       0.0         0.0  0.351   \n",
       "\n",
       "       st_c1err  st_c1lim  st_c1blend  st_colorn  \n",
       "rowid                                             \n",
       "1           NaN       NaN         NaN          7  \n",
       "2           NaN       NaN         NaN          5  \n",
       "3           NaN       NaN         NaN          7  \n",
       "4         0.006       0.0         0.0          9  \n",
       "5         0.003       0.0         0.0         17  \n",
       "\n",
       "[5 rows x 379 columns]"
      ]
     },
     "execution_count": 3,
     "metadata": {},
     "output_type": "execute_result"
    }
   ],
   "source": [
    "df = pd.read_csv(\"planets.csv\", header=386, index_col=0, skip_blank_lines=True)\n",
    "df.head()"
   ]
  },
  {
   "cell_type": "code",
   "execution_count": 4,
   "metadata": {
    "collapsed": false
   },
   "outputs": [
    {
     "data": {
      "text/plain": [
       "(3431, 379)"
      ]
     },
     "execution_count": 4,
     "metadata": {},
     "output_type": "execute_result"
    }
   ],
   "source": [
    "df.shape"
   ]
  },
  {
   "cell_type": "markdown",
   "metadata": {},
   "source": [
    "Now select system we want to integrate. Put in additional criteria to cut by, separating each by a '&' like below"
   ]
  },
  {
   "cell_type": "code",
   "execution_count": 5,
   "metadata": {
    "collapsed": false
   },
   "outputs": [],
   "source": [
    "mask = (df['pl_pnum'] > 1) & (df['pl_radj'] < 1) & (~df['st_mass'].isnull())"
   ]
  },
  {
   "cell_type": "code",
   "execution_count": 6,
   "metadata": {
    "collapsed": false
   },
   "outputs": [
    {
     "data": {
      "text/plain": [
       "(898, 379)"
      ]
     },
     "execution_count": 6,
     "metadata": {},
     "output_type": "execute_result"
    }
   ],
   "source": [
    "df = df[mask]\n",
    "df.shape"
   ]
  },
  {
   "cell_type": "markdown",
   "metadata": {},
   "source": [
    "Choose one of them as an example"
   ]
  },
  {
   "cell_type": "code",
   "execution_count": 7,
   "metadata": {
    "collapsed": false
   },
   "outputs": [
    {
     "data": {
      "text/plain": [
       "'CoRoT-24'"
      ]
     },
     "execution_count": 7,
     "metadata": {},
     "output_type": "execute_result"
    }
   ],
   "source": [
    "host = df['pl_hostname'].unique()[1]\n",
    "host"
   ]
  },
  {
   "cell_type": "markdown",
   "metadata": {},
   "source": [
    "Make a dataframe with just the planets in that system"
   ]
  },
  {
   "cell_type": "code",
   "execution_count": 8,
   "metadata": {
    "collapsed": false
   },
   "outputs": [
    {
     "data": {
      "text/html": [
       "<div>\n",
       "<table border=\"1\" class=\"dataframe\">\n",
       "  <thead>\n",
       "    <tr style=\"text-align: right;\">\n",
       "      <th></th>\n",
       "      <th>pl_hostname</th>\n",
       "      <th>pl_letter</th>\n",
       "      <th>pl_discmethod</th>\n",
       "      <th>pl_pnum</th>\n",
       "      <th>pl_orbper</th>\n",
       "      <th>pl_orbpererr1</th>\n",
       "      <th>pl_orbpererr2</th>\n",
       "      <th>pl_orbperlim</th>\n",
       "      <th>pl_orbsmax</th>\n",
       "      <th>pl_orbsmaxerr1</th>\n",
       "      <th>...</th>\n",
       "      <th>st_bmyblend</th>\n",
       "      <th>st_m1</th>\n",
       "      <th>st_m1err</th>\n",
       "      <th>st_m1lim</th>\n",
       "      <th>st_m1blend</th>\n",
       "      <th>st_c1</th>\n",
       "      <th>st_c1err</th>\n",
       "      <th>st_c1lim</th>\n",
       "      <th>st_c1blend</th>\n",
       "      <th>st_colorn</th>\n",
       "    </tr>\n",
       "    <tr>\n",
       "      <th>rowid</th>\n",
       "      <th></th>\n",
       "      <th></th>\n",
       "      <th></th>\n",
       "      <th></th>\n",
       "      <th></th>\n",
       "      <th></th>\n",
       "      <th></th>\n",
       "      <th></th>\n",
       "      <th></th>\n",
       "      <th></th>\n",
       "      <th></th>\n",
       "      <th></th>\n",
       "      <th></th>\n",
       "      <th></th>\n",
       "      <th></th>\n",
       "      <th></th>\n",
       "      <th></th>\n",
       "      <th></th>\n",
       "      <th></th>\n",
       "      <th></th>\n",
       "      <th></th>\n",
       "    </tr>\n",
       "  </thead>\n",
       "  <tbody>\n",
       "    <tr>\n",
       "      <th>76</th>\n",
       "      <td>CoRoT-24</td>\n",
       "      <td>b</td>\n",
       "      <td>Transit</td>\n",
       "      <td>2</td>\n",
       "      <td>5.1134</td>\n",
       "      <td>0.0006</td>\n",
       "      <td>-0.0006</td>\n",
       "      <td>0.0</td>\n",
       "      <td>0.056</td>\n",
       "      <td>0.002</td>\n",
       "      <td>...</td>\n",
       "      <td>NaN</td>\n",
       "      <td>NaN</td>\n",
       "      <td>NaN</td>\n",
       "      <td>NaN</td>\n",
       "      <td>NaN</td>\n",
       "      <td>NaN</td>\n",
       "      <td>NaN</td>\n",
       "      <td>NaN</td>\n",
       "      <td>NaN</td>\n",
       "      <td>3</td>\n",
       "    </tr>\n",
       "    <tr>\n",
       "      <th>77</th>\n",
       "      <td>CoRoT-24</td>\n",
       "      <td>c</td>\n",
       "      <td>Transit</td>\n",
       "      <td>2</td>\n",
       "      <td>11.7590</td>\n",
       "      <td>0.0063</td>\n",
       "      <td>-0.0063</td>\n",
       "      <td>0.0</td>\n",
       "      <td>0.098</td>\n",
       "      <td>0.003</td>\n",
       "      <td>...</td>\n",
       "      <td>NaN</td>\n",
       "      <td>NaN</td>\n",
       "      <td>NaN</td>\n",
       "      <td>NaN</td>\n",
       "      <td>NaN</td>\n",
       "      <td>NaN</td>\n",
       "      <td>NaN</td>\n",
       "      <td>NaN</td>\n",
       "      <td>NaN</td>\n",
       "      <td>3</td>\n",
       "    </tr>\n",
       "  </tbody>\n",
       "</table>\n",
       "<p>2 rows × 379 columns</p>\n",
       "</div>"
      ],
      "text/plain": [
       "      pl_hostname pl_letter pl_discmethod  pl_pnum  pl_orbper  pl_orbpererr1  \\\n",
       "rowid                                                                          \n",
       "76       CoRoT-24         b       Transit        2     5.1134         0.0006   \n",
       "77       CoRoT-24         c       Transit        2    11.7590         0.0063   \n",
       "\n",
       "       pl_orbpererr2  pl_orbperlim  pl_orbsmax  pl_orbsmaxerr1    ...      \\\n",
       "rowid                                                             ...       \n",
       "76           -0.0006           0.0       0.056           0.002    ...       \n",
       "77           -0.0063           0.0       0.098           0.003    ...       \n",
       "\n",
       "       st_bmyblend  st_m1  st_m1err  st_m1lim  st_m1blend  st_c1  st_c1err  \\\n",
       "rowid                                                                        \n",
       "76             NaN    NaN       NaN       NaN         NaN    NaN       NaN   \n",
       "77             NaN    NaN       NaN       NaN         NaN    NaN       NaN   \n",
       "\n",
       "       st_c1lim  st_c1blend  st_colorn  \n",
       "rowid                                   \n",
       "76          NaN         NaN          3  \n",
       "77          NaN         NaN          3  \n",
       "\n",
       "[2 rows x 379 columns]"
      ]
     },
     "execution_count": 8,
     "metadata": {},
     "output_type": "execute_result"
    }
   ],
   "source": [
    "system = df[df['pl_hostname'] == host]\n",
    "system.head()"
   ]
  },
  {
   "cell_type": "markdown",
   "metadata": {},
   "source": [
    "This does the N-body integration, and saves it to a file in the same directory with name hostname.bin"
   ]
  },
  {
   "cell_type": "code",
   "execution_count": 9,
   "metadata": {
    "collapsed": false
   },
   "outputs": [
    {
     "name": "stdout",
     "output_type": "stream",
     "text": [
      "CPU times: user 12.8 s, sys: 0 ns, total: 12.8 s\n",
      "Wall time: 12.9 s\n"
     ]
    }
   ],
   "source": [
    "%%time \n",
    "run(system)"
   ]
  },
  {
   "cell_type": "markdown",
   "metadata": {},
   "source": [
    "Do another system, this time one exhibiting TTVs"
   ]
  },
  {
   "cell_type": "code",
   "execution_count": 10,
   "metadata": {
    "collapsed": false
   },
   "outputs": [
    {
     "data": {
      "text/plain": [
       "(177, 379)"
      ]
     },
     "execution_count": 10,
     "metadata": {},
     "output_type": "execute_result"
    }
   ],
   "source": [
    "maskttv = mask & (df['pl_ttvflag'] == True)\n",
    "df = pd.read_csv(\"planets.csv\", header=386, index_col=0, skip_blank_lines=True)\n",
    "df = df[maskttv]\n",
    "df.shape"
   ]
  },
  {
   "cell_type": "code",
   "execution_count": 11,
   "metadata": {
    "collapsed": false
   },
   "outputs": [
    {
     "data": {
      "text/plain": [
       "'K2-19'"
      ]
     },
     "execution_count": 11,
     "metadata": {},
     "output_type": "execute_result"
    }
   ],
   "source": [
    "host = df['pl_hostname'].unique()[0]\n",
    "host"
   ]
  },
  {
   "cell_type": "code",
   "execution_count": 12,
   "metadata": {
    "collapsed": false
   },
   "outputs": [
    {
     "data": {
      "text/html": [
       "<div>\n",
       "<table border=\"1\" class=\"dataframe\">\n",
       "  <thead>\n",
       "    <tr style=\"text-align: right;\">\n",
       "      <th></th>\n",
       "      <th>pl_hostname</th>\n",
       "      <th>pl_letter</th>\n",
       "      <th>pl_discmethod</th>\n",
       "      <th>pl_pnum</th>\n",
       "      <th>pl_orbper</th>\n",
       "      <th>pl_orbpererr1</th>\n",
       "      <th>pl_orbpererr2</th>\n",
       "      <th>pl_orbperlim</th>\n",
       "      <th>pl_orbsmax</th>\n",
       "      <th>pl_orbsmaxerr1</th>\n",
       "      <th>...</th>\n",
       "      <th>st_bmyblend</th>\n",
       "      <th>st_m1</th>\n",
       "      <th>st_m1err</th>\n",
       "      <th>st_m1lim</th>\n",
       "      <th>st_m1blend</th>\n",
       "      <th>st_c1</th>\n",
       "      <th>st_c1err</th>\n",
       "      <th>st_c1lim</th>\n",
       "      <th>st_c1blend</th>\n",
       "      <th>st_colorn</th>\n",
       "    </tr>\n",
       "    <tr>\n",
       "      <th>rowid</th>\n",
       "      <th></th>\n",
       "      <th></th>\n",
       "      <th></th>\n",
       "      <th></th>\n",
       "      <th></th>\n",
       "      <th></th>\n",
       "      <th></th>\n",
       "      <th></th>\n",
       "      <th></th>\n",
       "      <th></th>\n",
       "      <th></th>\n",
       "      <th></th>\n",
       "      <th></th>\n",
       "      <th></th>\n",
       "      <th></th>\n",
       "      <th></th>\n",
       "      <th></th>\n",
       "      <th></th>\n",
       "      <th></th>\n",
       "      <th></th>\n",
       "      <th></th>\n",
       "    </tr>\n",
       "  </thead>\n",
       "  <tbody>\n",
       "    <tr>\n",
       "      <th>723</th>\n",
       "      <td>K2-19</td>\n",
       "      <td>b</td>\n",
       "      <td>Transit</td>\n",
       "      <td>3</td>\n",
       "      <td>7.91940</td>\n",
       "      <td>0.00005</td>\n",
       "      <td>-0.00005</td>\n",
       "      <td>0.0</td>\n",
       "      <td>0.0740</td>\n",
       "      <td>0.0012</td>\n",
       "      <td>...</td>\n",
       "      <td>NaN</td>\n",
       "      <td>NaN</td>\n",
       "      <td>NaN</td>\n",
       "      <td>NaN</td>\n",
       "      <td>NaN</td>\n",
       "      <td>NaN</td>\n",
       "      <td>NaN</td>\n",
       "      <td>NaN</td>\n",
       "      <td>NaN</td>\n",
       "      <td>4</td>\n",
       "    </tr>\n",
       "    <tr>\n",
       "      <th>724</th>\n",
       "      <td>K2-19</td>\n",
       "      <td>c</td>\n",
       "      <td>Transit</td>\n",
       "      <td>3</td>\n",
       "      <td>11.90715</td>\n",
       "      <td>0.00150</td>\n",
       "      <td>-0.00150</td>\n",
       "      <td>0.0</td>\n",
       "      <td>0.0971</td>\n",
       "      <td>0.0016</td>\n",
       "      <td>...</td>\n",
       "      <td>NaN</td>\n",
       "      <td>NaN</td>\n",
       "      <td>NaN</td>\n",
       "      <td>NaN</td>\n",
       "      <td>NaN</td>\n",
       "      <td>NaN</td>\n",
       "      <td>NaN</td>\n",
       "      <td>NaN</td>\n",
       "      <td>NaN</td>\n",
       "      <td>4</td>\n",
       "    </tr>\n",
       "    <tr>\n",
       "      <th>725</th>\n",
       "      <td>K2-19</td>\n",
       "      <td>d</td>\n",
       "      <td>Transit</td>\n",
       "      <td>3</td>\n",
       "      <td>2.50856</td>\n",
       "      <td>0.00041</td>\n",
       "      <td>-0.00041</td>\n",
       "      <td>0.0</td>\n",
       "      <td>0.0344</td>\n",
       "      <td>0.0006</td>\n",
       "      <td>...</td>\n",
       "      <td>NaN</td>\n",
       "      <td>NaN</td>\n",
       "      <td>NaN</td>\n",
       "      <td>NaN</td>\n",
       "      <td>NaN</td>\n",
       "      <td>NaN</td>\n",
       "      <td>NaN</td>\n",
       "      <td>NaN</td>\n",
       "      <td>NaN</td>\n",
       "      <td>4</td>\n",
       "    </tr>\n",
       "  </tbody>\n",
       "</table>\n",
       "<p>3 rows × 379 columns</p>\n",
       "</div>"
      ],
      "text/plain": [
       "      pl_hostname pl_letter pl_discmethod  pl_pnum  pl_orbper  pl_orbpererr1  \\\n",
       "rowid                                                                          \n",
       "723         K2-19         b       Transit        3    7.91940        0.00005   \n",
       "724         K2-19         c       Transit        3   11.90715        0.00150   \n",
       "725         K2-19         d       Transit        3    2.50856        0.00041   \n",
       "\n",
       "       pl_orbpererr2  pl_orbperlim  pl_orbsmax  pl_orbsmaxerr1    ...      \\\n",
       "rowid                                                             ...       \n",
       "723         -0.00005           0.0      0.0740          0.0012    ...       \n",
       "724         -0.00150           0.0      0.0971          0.0016    ...       \n",
       "725         -0.00041           0.0      0.0344          0.0006    ...       \n",
       "\n",
       "       st_bmyblend  st_m1  st_m1err  st_m1lim  st_m1blend  st_c1  st_c1err  \\\n",
       "rowid                                                                        \n",
       "723            NaN    NaN       NaN       NaN         NaN    NaN       NaN   \n",
       "724            NaN    NaN       NaN       NaN         NaN    NaN       NaN   \n",
       "725            NaN    NaN       NaN       NaN         NaN    NaN       NaN   \n",
       "\n",
       "       st_c1lim  st_c1blend  st_colorn  \n",
       "rowid                                   \n",
       "723         NaN         NaN          4  \n",
       "724         NaN         NaN          4  \n",
       "725         NaN         NaN          4  \n",
       "\n",
       "[3 rows x 379 columns]"
      ]
     },
     "execution_count": 12,
     "metadata": {},
     "output_type": "execute_result"
    }
   ],
   "source": [
    "system = df[df['pl_hostname'] == host]\n",
    "system.head()"
   ]
  },
  {
   "cell_type": "code",
   "execution_count": 13,
   "metadata": {
    "collapsed": false
   },
   "outputs": [
    {
     "name": "stdout",
     "output_type": "stream",
     "text": [
      "CPU times: user 22 s, sys: 0 ns, total: 22 s\n",
      "Wall time: 22.1 s\n"
     ]
    }
   ],
   "source": [
    "%%time \n",
    "run(system)"
   ]
  },
  {
   "cell_type": "markdown",
   "metadata": {},
   "source": [
    "You could iterate over all the database with the cell below"
   ]
  },
  {
   "cell_type": "code",
   "execution_count": 15,
   "metadata": {
    "collapsed": false
   },
   "outputs": [],
   "source": [
    "#for host in df['pl_hostname'].unique():\n",
    "#    system = df[df['pl_hostname'] == host]\n",
    "#    run(system)"
   ]
  },
  {
   "cell_type": "code",
   "execution_count": null,
   "metadata": {
    "collapsed": true
   },
   "outputs": [],
   "source": []
  }
 ],
 "metadata": {
  "kernelspec": {
   "display_name": "Python 2",
   "language": "python",
   "name": "python2"
  },
  "language_info": {
   "codemirror_mode": {
    "name": "ipython",
    "version": 2
   },
   "file_extension": ".py",
   "mimetype": "text/x-python",
   "name": "python",
   "nbconvert_exporter": "python",
   "pygments_lexer": "ipython2",
   "version": "2.7.10"
  }
 },
 "nbformat": 4,
 "nbformat_minor": 1
}
