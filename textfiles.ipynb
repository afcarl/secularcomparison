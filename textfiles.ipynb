{
 "cells": [
  {
   "cell_type": "markdown",
   "metadata": {},
   "source": [
    "Probably easiest to get the hostname just like we did when running the Nbody"
   ]
  },
  {
   "cell_type": "code",
   "execution_count": 15,
   "metadata": {
    "collapsed": true
   },
   "outputs": [],
   "source": [
    "import rebound\n",
    "import pandas as pd\n",
    "\n",
    "df = pd.read_csv(\"planets.csv\", header=386, index_col=0, skip_blank_lines=True)\n",
    "mask = (df['pl_pnum'] > 1) & (df['pl_radj'] < 1) & (~df['st_mass'].isnull())\n",
    "df = df[mask]\n",
    "host = df['pl_hostname'].unique()[1]"
   ]
  },
  {
   "cell_type": "code",
   "execution_count": 16,
   "metadata": {
    "collapsed": false
   },
   "outputs": [
    {
     "name": "stdout",
     "output_type": "stream",
     "text": [
      "Number of snapshots: 11\n",
      "Time of first and last snapshot: 0.0, 13998.9\n"
     ]
    }
   ],
   "source": [
    "print(\"Number of snapshots: %d\" % len(sa))\n",
    "print(\"Time of first and last snapshot: %.1f, %.1f\" % (sa.tmin, sa.tmax))"
   ]
  },
  {
   "cell_type": "markdown",
   "metadata": {},
   "source": [
    "Format for text file is:\n",
    "1st line: Nplanets, mass of star in solar masses, period of innermost planet in years\n",
    "\n",
    "Then a line for each of the snapshots saved in the Nbody simulation that first gives the time of the snapshot, and then for each of the planets gives in sequence:\n",
    "\n",
    "mass, semimajor axis, ecc, incl, big Omega, pomega (longitude not argument), true anomaly f\n",
    "\n",
    "All angles are in radians.\n",
    "\n",
    "So for a 2planet system, each line has 15 values, 1 for the time, and 7 for each planet (6 orb el + mass)\n",
    "\n",
    "Will write to file \"hostname.txt\""
   ]
  },
  {
   "cell_type": "code",
   "execution_count": 17,
   "metadata": {
    "collapsed": false
   },
   "outputs": [],
   "source": [
    "def textfile(host): \n",
    "    sa = rebound.SimulationArchive(\"binaries/\"+host+\".bin\")\n",
    "    with open(\"textfiles/\"+host+\".txt\", 'w') as f:\n",
    "        sim = sa[0]\n",
    "        ps = sim.particles\n",
    "        f.write(\"{0}\\t{1}\\t{2}\\n\".format(sim.N-1, ps[0].m, ps[1].P))\n",
    "        for i, sim in enumerate(sa):\n",
    "            f.write(\"{0}\".format(sim.t))\n",
    "            for p in ps[1:]:\n",
    "                o = p.orbit\n",
    "                f.write(\"\\t{0}\\t{1}\\t{2}\\t{3}\\t{4}\\t{5}\\t{6}\".format(p.m, o.a, o.e, o.inc, o.Omega, o.pomega, o.f))\n",
    "            f.write(\"\\n\")"
   ]
  },
  {
   "cell_type": "code",
   "execution_count": 18,
   "metadata": {
    "collapsed": true
   },
   "outputs": [],
   "source": [
    "textfile(host)"
   ]
  },
  {
   "cell_type": "code",
   "execution_count": 19,
   "metadata": {
    "collapsed": true
   },
   "outputs": [],
   "source": [
    "maskttv = mask & (df['pl_ttvflag'] == True)\n",
    "df = pd.read_csv(\"planets.csv\", header=386, index_col=0, skip_blank_lines=True)\n",
    "df = df[maskttv]\n",
    "host = df['pl_hostname'].unique()[0]\n",
    "textfile(host)"
   ]
  },
  {
   "cell_type": "markdown",
   "metadata": {},
   "source": [
    "When iterating over the whole database, you probably want to copy this function into the other notebook and call textfile(host) in that loop"
   ]
  },
  {
   "cell_type": "code",
   "execution_count": null,
   "metadata": {
    "collapsed": true
   },
   "outputs": [],
   "source": []
  }
 ],
 "metadata": {
  "kernelspec": {
   "display_name": "Python 2",
   "language": "python",
   "name": "python2"
  },
  "language_info": {
   "codemirror_mode": {
    "name": "ipython",
    "version": 2
   },
   "file_extension": ".py",
   "mimetype": "text/x-python",
   "name": "python",
   "nbconvert_exporter": "python",
   "pygments_lexer": "ipython2",
   "version": "2.7.10"
  }
 },
 "nbformat": 4,
 "nbformat_minor": 1
}
